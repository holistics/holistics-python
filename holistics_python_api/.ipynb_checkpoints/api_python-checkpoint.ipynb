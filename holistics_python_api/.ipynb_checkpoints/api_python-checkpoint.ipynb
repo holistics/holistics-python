{
 "cells": [
  {
   "cell_type": "code",
   "execution_count": 1,
   "metadata": {},
   "outputs": [],
   "source": [
    "import requests\n",
    "import io\n",
    "import pandas as pd"
   ]
  },
  {
   "cell_type": "code",
   "execution_count": 20,
   "metadata": {},
   "outputs": [],
   "source": [
    "class holistics_api:    \n",
    "    \n",
    "    def export_api(self, key, report_id, filter_dict=dict(), path=None, _page_size=10000000, _page=10000000):  \n",
    "        headers = {\n",
    "            \"Accept\":\"application/json\", \n",
    "            \"Content-Type\":\"application/json\",\n",
    "            \"X-Holistics-Key\": key}\n",
    "        #print (\"Executing report...\")\n",
    "        r = requests.get('https://secure.holistics.io/queries/'+report_id+'/submit_export.csv', params = filter_dict, headers = headers)\n",
    "        try:\n",
    "            r.raise_for_status()\n",
    "        except requests.exceptions.HTTPError as e:\n",
    "            # Whoops it wasn't a 200\n",
    "            return \"Error: \" + str(e)\n",
    "        #print (\"Success.\")\n",
    "        job_id = str(r.json()['job_id'])\n",
    "        page={\n",
    "            'job_id': job_id,\n",
    "            '_page_size': _page_size,\n",
    "            '_page': _page}\n",
    "        #print (\"Getting export results...\")\n",
    "        r = requests.get('https://secure.holistics.io/queries/get_export_results.json', params = page,headers = headers)\n",
    "        try:\n",
    "            r.raise_for_status()\n",
    "        except requests.exceptions.HTTPError as e:\n",
    "            # Whoops it wasn't a 200\n",
    "            return \"Error: \" + str(e)\n",
    "        #print (\"Success.\")\n",
    "        res = r.json()\n",
    "        while (res['status'] != 'success'):\n",
    "            r = requests.get('https://secure.holistics.io/queries/get_export_results.json', params = page,headers = headers)\n",
    "            res = r.json()\n",
    "            time.sleep(1)\n",
    "        #print (\"Downloading export results...\")\n",
    "        r = requests.get('https://secure.holistics.io/exports/download?job_id=' + job_id,headers = headers)\n",
    "        try:\n",
    "            r.raise_for_status()\n",
    "        except requests.exceptions.HTTPError as e:\n",
    "            # Whoops it wasn't a 200\n",
    "            return \"Error: \" + str(e)\n",
    "        text = str(r.content, 'utf-8', errors='replace')    \n",
    "        data = pd.read_csv(io.StringIO(text))\n",
    "        if path == None:\n",
    "            return data\n",
    "        else:\n",
    "            try:\n",
    "                data.to_csv(path, encoding='utf-8', index=False)\n",
    "                return \"Export to file successed!\"\n",
    "            except:\n",
    "                return \"Path not found\""
   ]
  },
  {
   "cell_type": "code",
   "execution_count": 33,
   "metadata": {},
   "outputs": [
    {
     "name": "stdout",
     "output_type": "stream",
     "text": [
      "This func should be done: Done\n",
      "This func should be undone: Undone.\n",
      "This func should be undone: Undone\n",
      "This func should be undone: Undone\n"
     ]
    }
   ],
   "source": [
    "import re\n",
    "wrong_key = 'Z3gp'\n",
    "correct_key = 'Z3gpF2d2cQwu7jdQlzpKuMUGVb+ZkDwhW1kZvX9gsgw='\n",
    "wrong_report_id = '1111111111111'\n",
    "correct_report_id = '33874'\n",
    "path = 'C:\\programfile\\hah.csv'\n",
    "test = holistics_api()\n",
    "\n",
    "res = test.export_api(correct_key, correct_report_id)\n",
    "print (\"This func should be marked as done: \", end='')\n",
    "if isinstance(res, pd.DataFrame):\n",
    "    print (\"Done\")\n",
    "    \n",
    "res = test.export_api(correct_key, wrong_report_id)\n",
    "print (\"This func should be marked as error: \", end='')\n",
    "if re.match('^Error', res):\n",
    "    print (\"Error.\")\n",
    "    \n",
    "res = test.export_api(wrong_key, correct_report_id)\n",
    "print (\"This func should be marked as error: \", end='')\n",
    "if re.match('^Error', res):\n",
    "    print (\"Error\")\n",
    "\n",
    "res = test.export_api(wrong_key, wrong_report_id)\n",
    "print (\"This func should be marked as error: \", end='')\n",
    "if re.match('^Error', res):\n",
    "    print (\"Error\")"
   ]
  },
  {
   "cell_type": "code",
   "execution_count": 30,
   "metadata": {},
   "outputs": [
    {
     "data": {
      "text/plain": [
       "False"
      ]
     },
     "execution_count": 30,
     "metadata": {},
     "output_type": "execute_result"
    }
   ],
   "source": [
    "test = 'Error: 404 Client Error: Not Found for url: https://secure.holistics.io/queries/1111111111111/submit_export.csv'\n",
    "\n",
    "bool(re.match('^Error', test))"
   ]
  }
 ],
 "metadata": {
  "kernelspec": {
   "display_name": "Python 3",
   "language": "python",
   "name": "python3"
  },
  "language_info": {
   "codemirror_mode": {
    "name": "ipython",
    "version": 3
   },
   "file_extension": ".py",
   "mimetype": "text/x-python",
   "name": "python",
   "nbconvert_exporter": "python",
   "pygments_lexer": "ipython3",
   "version": "3.6.5"
  }
 },
 "nbformat": 4,
 "nbformat_minor": 2
}
